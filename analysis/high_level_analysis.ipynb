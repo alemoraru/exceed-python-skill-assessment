{
 "cells": [
  {
   "cell_type": "markdown",
   "metadata": {},
   "source": [
    "# High-Level Results Analysis for Qualtrics Python Skill Level Survey\n",
    "\n",
    "This document provides a high-level analysis of the results from the Qualtrics Python Skill Level Survey. The survey was designed to assess the Python skill levels of participants, by placing them into one of the 2 categories: \"Beginner\" or \"Advanced\". This analysis is intended to summarize the findings and provide insights into the best questions around Python programming errors and debugging that can be used to differentiate between these two skill levels."
   ]
  },
  {
   "cell_type": "markdown",
   "metadata": {},
   "source": [
    "## Step 0: Install Required Libraries\n",
    "\n",
    "Prior to running the analysis, ensure that the required libraries are installed. For this, you need only install the libraries defined in the `requirements.txt` file. You can do this by running the following command in your terminal:\n",
    "\n",
    "```bash\n",
    "pip install -r requirements.txt\n",
    "```"
   ]
  },
  {
   "cell_type": "code",
   "execution_count": null,
   "metadata": {},
   "outputs": [],
   "source": [
    "%pip install -r requirements.txt"
   ]
  },
  {
   "cell_type": "markdown",
   "metadata": {},
   "source": [
    "## Step 1: Load the Data\n",
    "\n",
    "We need to load the survey data from a CSV file, prior to performing any sort of analysis."
   ]
  },
  {
   "cell_type": "code",
   "execution_count": null,
   "metadata": {},
   "outputs": [],
   "source": [
    "import pandas as pd\n",
    "\n",
    "# Set the path to the Qualtrics CSV file (adjust as needed, but default is in the same directory)\n",
    "file_path = \"./qualtrics_responses_labels_simplified.csv\"\n",
    "\n",
    "# 1. Load data (Qualtrics exports are semicolon‑delimited by default)\n",
    "df = pd.read_csv(file_path, sep=';')"
   ]
  },
  {
   "cell_type": "markdown",
   "metadata": {},
   "source": [
    "## Step 2: Keep Only Completed Surveys\n",
    "\n",
    "In the dataset, it is possible to encounter entries of respondents that have not completed the survey within the allowed 2 weeks timeframe. The following step filters out these incomplete surveys, ensuring that only fully completed responses are analyzed."
   ]
  },
  {
   "cell_type": "code",
   "execution_count": null,
   "metadata": {},
   "outputs": [],
   "source": [
    "# 2. Keep only respondents who finished the survey\n",
    "completed = df[df[\"Finished\"] == 1]"
   ]
  },
  {
   "cell_type": "markdown",
   "metadata": {},
   "source": [
    "## Step 3: Analyze the Data"
   ]
  },
  {
   "cell_type": "code",
   "execution_count": null,
   "metadata": {},
   "outputs": [],
   "source": [
    "# 3. Calculate the required metrics\n",
    "metrics = {\n",
    "    \"Completion rate (%)\": round(df[\"Finished\"].mean() * 100, 2),\n",
    "    \"Average duration (sec)\": completed[\"Duration (in seconds)\"].mean(),\n",
    "    \"Average Python experience (years)\": completed[\"Q2.2\"].mean(),\n",
    "    \"Average general experience (years)\": completed[\"Q2.3\"].mean(),\n",
    "    # Pearson correlation between years of Python experience and general experience\n",
    "    \"Correlation (Python vs general years)\": completed[[\"Q2.2\", \"Q2.3\"]].corr().iloc[0, 1],\n",
    "    \"Average estimated correct answers\": completed[\"Q11.1\"].mean(),\n",
    "}"
   ]
  },
  {
   "cell_type": "markdown",
   "metadata": {},
   "source": [
    "## Step 4: Generate the Report"
   ]
  },
  {
   "cell_type": "code",
   "execution_count": null,
   "metadata": {},
   "outputs": [],
   "source": [
    "from IPython.display import display\n",
    "\n",
    "# 4. Present results in a tidy table\n",
    "summary_df = pd.DataFrame(list(metrics.items()), columns=[\"Metric\", \"Value\"])\n",
    "\n",
    "display(summary_df.style.set_caption(\"Survey Summary Metrics\").format(precision=2))"
   ]
  }
 ],
 "metadata": {
  "kernelspec": {
   "display_name": ".venv",
   "language": "python",
   "name": "python3"
  },
  "language_info": {
   "codemirror_mode": {
    "name": "ipython",
    "version": 3
   },
   "file_extension": ".py",
   "mimetype": "text/x-python",
   "name": "python",
   "nbconvert_exporter": "python",
   "pygments_lexer": "ipython3",
   "version": "3.12.8"
  }
 },
 "nbformat": 4,
 "nbformat_minor": 2
}
