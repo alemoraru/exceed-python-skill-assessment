{
 "cells": [
  {
   "cell_type": "markdown",
   "metadata": {},
   "source": [
    "# High-Level Results Analysis for Qualtrics Python Skill Level Survey\n",
    "\n",
    "This document provides a high-level analysis of the results from the Qualtrics Python Skill Level Survey. The survey was designed to assess the Python skill levels of participants, by placing them into one of the 2 categories: \"Beginner\" or \"Advanced\". This analysis is intended to summarize the findings and provide insights into the best questions around Python programming errors and debugging that can be used to differentiate between these two skill levels."
   ]
  },
  {
   "cell_type": "markdown",
   "metadata": {},
   "source": [
    "## Step 0: Install Required Libraries\n",
    "\n",
    "Prior to running the analysis, ensure that the required libraries are installed. For this, you need only install the libraries defined in the `requirements.txt` file. You can do this by running the following command in your terminal:\n",
    "\n",
    "```bash\n",
    "pip install -r requirements.txt\n",
    "```"
   ]
  },
  {
   "cell_type": "code",
   "execution_count": 1,
   "metadata": {},
   "outputs": [
    {
     "name": "stdout",
     "output_type": "stream",
     "text": [
      "Collecting pandas==2.2.3 (from -r requirements.txt (line 1))\n",
      "  Using cached pandas-2.2.3-cp312-cp312-macosx_11_0_arm64.whl.metadata (89 kB)\n",
      "Collecting numpy>=1.26.0 (from pandas==2.2.3->-r requirements.txt (line 1))\n",
      "  Downloading numpy-2.2.6-cp312-cp312-macosx_14_0_arm64.whl.metadata (62 kB)\n",
      "Requirement already satisfied: python-dateutil>=2.8.2 in /Users/amoraru/Documents/GitHub/EXCEED/exceed-python-skill-assessment/.venv/lib/python3.12/site-packages (from pandas==2.2.3->-r requirements.txt (line 1)) (2.9.0.post0)\n",
      "Collecting pytz>=2020.1 (from pandas==2.2.3->-r requirements.txt (line 1))\n",
      "  Downloading pytz-2025.2-py2.py3-none-any.whl.metadata (22 kB)\n",
      "Collecting tzdata>=2022.7 (from pandas==2.2.3->-r requirements.txt (line 1))\n",
      "  Downloading tzdata-2025.2-py2.py3-none-any.whl.metadata (1.4 kB)\n",
      "Requirement already satisfied: six>=1.5 in /Users/amoraru/Documents/GitHub/EXCEED/exceed-python-skill-assessment/.venv/lib/python3.12/site-packages (from python-dateutil>=2.8.2->pandas==2.2.3->-r requirements.txt (line 1)) (1.17.0)\n",
      "Using cached pandas-2.2.3-cp312-cp312-macosx_11_0_arm64.whl (11.4 MB)\n",
      "Downloading numpy-2.2.6-cp312-cp312-macosx_14_0_arm64.whl (5.1 MB)\n",
      "\u001b[2K   \u001b[90m━━━━━━━━━━━━━━━━━━━━━━━━━━━━━━━━━━━━━━━━\u001b[0m \u001b[32m5.1/5.1 MB\u001b[0m \u001b[31m61.3 MB/s\u001b[0m eta \u001b[36m0:00:00\u001b[0m\n",
      "\u001b[?25hDownloading pytz-2025.2-py2.py3-none-any.whl (509 kB)\n",
      "Downloading tzdata-2025.2-py2.py3-none-any.whl (347 kB)\n",
      "Installing collected packages: pytz, tzdata, numpy, pandas\n",
      "Successfully installed numpy-2.2.6 pandas-2.2.3 pytz-2025.2 tzdata-2025.2\n",
      "\n",
      "\u001b[1m[\u001b[0m\u001b[34;49mnotice\u001b[0m\u001b[1;39;49m]\u001b[0m\u001b[39;49m A new release of pip is available: \u001b[0m\u001b[31;49m24.3.1\u001b[0m\u001b[39;49m -> \u001b[0m\u001b[32;49m25.1.1\u001b[0m\n",
      "\u001b[1m[\u001b[0m\u001b[34;49mnotice\u001b[0m\u001b[1;39;49m]\u001b[0m\u001b[39;49m To update, run: \u001b[0m\u001b[32;49mpip install --upgrade pip\u001b[0m\n",
      "Note: you may need to restart the kernel to use updated packages.\n"
     ]
    }
   ],
   "source": [
    "%pip install -r requirements.txt"
   ]
  },
  {
   "cell_type": "markdown",
   "metadata": {},
   "source": [
    "## Step 1: Load the Data\n",
    "\n",
    "We need to load the survey data from a CSV file, prior to performing any sort of analysis."
   ]
  },
  {
   "cell_type": "code",
   "execution_count": 3,
   "metadata": {},
   "outputs": [],
   "source": [
    "import pandas as pd\n",
    "\n",
    "# Set the path to the Qualtrics CSV file (adjust as needed, but default is in the same directory)\n",
    "file_path = \"./qualtrics_responses_labels_simplified.csv\"\n",
    "\n",
    "# 1. Load data (Qualtrics exports are semicolon‑delimited by default)\n",
    "df = pd.read_csv(file_path, sep=';')"
   ]
  },
  {
   "cell_type": "markdown",
   "metadata": {},
   "source": [
    "## Step 2: Keep Only Completed Surveys\n",
    "\n",
    "In the dataset, it is possible to encounter entries of respondents that have not completed the survey within the allowed 2 weeks timeframe. The following step filters out these incomplete surveys, ensuring that only fully completed responses are analyzed."
   ]
  },
  {
   "cell_type": "code",
   "execution_count": null,
   "metadata": {},
   "outputs": [],
   "source": [
    "# 2. Keep only respondents who finished the survey\n",
    "completed = df[df[\"Finished\"] == 1]"
   ]
  },
  {
   "cell_type": "markdown",
   "metadata": {},
   "source": [
    "## Step 3: Analyze the Data"
   ]
  },
  {
   "cell_type": "code",
   "execution_count": null,
   "metadata": {},
   "outputs": [],
   "source": [
    "# 3. Calculate the required metrics\n",
    "metrics = {\n",
    "    \"Completion rate (%)\": round(df[\"Finished\"].mean() * 100, 2),\n",
    "    \"Average duration (sec)\": completed[\"Duration (in seconds)\"].mean(),\n",
    "    \"Average Python experience (years)\": completed[\"Q2.2\"].mean(),\n",
    "    \"Average general experience (years)\": completed[\"Q2.3\"].mean(),\n",
    "    # Pearson correlation between years of Python experience and general experience\n",
    "    \"Correlation (Python vs general years)\": completed[[\"Q2.2\", \"Q2.3\"]].corr().iloc[0, 1],\n",
    "    \"Average estimated correct answers\": completed[\"Q11.1\"].mean(),\n",
    "}\n",
    "\n",
    "# 4. Present results in a tidy table\n",
    "summary_df = pd.DataFrame(list(metrics.items()), columns=[\"Metric\", \"Value\"])\n",
    "\n",
    "try:\n",
    "    # If available, show an interactive table\n",
    "    from ace_tools import display_dataframe_to_user\n",
    "    display_dataframe_to_user(\"Survey summary metrics\", summary_df)\n",
    "except ImportError:\n",
    "    # Fallback to a simple printout\n",
    "    print(summary_df.to_string(index=False))"
   ]
  }
 ],
 "metadata": {
  "kernelspec": {
   "display_name": ".venv",
   "language": "python",
   "name": "python3"
  },
  "language_info": {
   "codemirror_mode": {
    "name": "ipython",
    "version": 3
   },
   "file_extension": ".py",
   "mimetype": "text/x-python",
   "name": "python",
   "nbconvert_exporter": "python",
   "pygments_lexer": "ipython3",
   "version": "3.12.8"
  }
 },
 "nbformat": 4,
 "nbformat_minor": 2
}
