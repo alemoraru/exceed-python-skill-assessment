{
 "cells": [
  {
   "cell_type": "markdown",
   "metadata": {},
   "source": [
    "# EXCEED Python Qualtrics Survey - Detailed Analysis\n",
    "\n",
    "This notebook provides a detailed analysis of the EXCEED Python Qualtrics survey data. It includes data loading, cleaning, and various analyses to understand the survey responses better. The ultimate goal of this analysis is to find the best subset of questions that can best differentiate between Python _beginner_/_novice_ and _advanced_/_expert_ users.\n",
    "\n",
    "The Qualtrics survey is composed of the following blocks, where each participant is required to answer all questions in each block. Note that for blocks 3 to 8, each respondent is given a random subset of 2 out of the 7 available questions, hence the total number of survey-related questions is 16. The blocks are as follows:\n",
    "1. **Consent Form**: Participants agree to take part in the survey. If they do not agree, they are redirected to the end of the survey.\n",
    "2. **Self-assessment**:\n",
    "    1. **Python Experience**: Participants self-assess their Python experience using Dreyfus levels.\n",
    "    2. **Python Programming YoE**: Participants indicate their years of experience with Python programming.\n",
    "    3. **General Programming YoE**: Participants indicate their years of experience with programming in general.\n",
    "3. **General Programming Error Understanding**: 7 questions\n",
    "4. **Python-Specific General Error Understanding**: 7 questions\n",
    "5. **Code Reading / Understanding**: 7 questions\n",
    "6. **Error Message Comprehension**: 7 questions\n",
    "7. **Error Resolution**: 7 questions\n",
    "8. **Error Message Comprehension**: 7 questions\n",
    "9. **Natural Language Scenarios**: 7 questions\n",
    "10. **Miscellanous Questions - Various Complexity & Scope**: 7 questions\n",
    "11. **Self-Assessment of Results**: Participants self-assess the number of questions they answered correctly in the survey (0 to 16)."
   ]
  },
  {
   "cell_type": "markdown",
   "metadata": {},
   "source": [
    "## Step 0: Install Required Libraries\n",
    "\n",
    "Prior to running the analysis, ensure that the required libraries are installed. For this, you need only install the libraries defined in the `requirements.txt` file. You can do this by running the following command in your terminal:\n",
    "\n",
    "```bash\n",
    "pip install -r requirements.txt\n",
    "```"
   ]
  },
  {
   "cell_type": "code",
   "execution_count": null,
   "metadata": {},
   "outputs": [],
   "source": [
    "%pip install -r requirements.txt"
   ]
  },
  {
   "cell_type": "markdown",
   "metadata": {},
   "source": [
    "## Step 1: Load the data\n",
    "\n",
    "For this step, we need to load 2 CSV files:\n",
    "1. `survey_results.csv`: Contains the survey responses and some other metadata\n",
    "2. `survey_answers.csv`: Contains the correct answers for the survey questions\n",
    "\n",
    "The default files are in the same directory as this notebook. If you have the files in a different directory, please change the file paths accordingly."
   ]
  },
  {
   "cell_type": "code",
   "execution_count": null,
   "metadata": {},
   "outputs": [],
   "source": [
    "import pandas as pd\n",
    "\n",
    "file_path_survey_results = \"./survey_results.csv\"\n",
    "file_path_survey_answers = \"./survey_answers.csv\"\n",
    "\n",
    "# Step 0. Load data (files are semicolon‑delimited)\n",
    "df_results = pd.read_csv(file_path_survey_results, sep=';')\n",
    "df_answers = pd.read_csv(file_path_survey_answers, sep=';')"
   ]
  }
 ],
 "metadata": {
  "kernelspec": {
   "display_name": ".venv",
   "language": "python",
   "name": "python3"
  },
  "language_info": {
   "codemirror_mode": {
    "name": "ipython",
    "version": 3
   },
   "file_extension": ".py",
   "mimetype": "text/x-python",
   "name": "python",
   "nbconvert_exporter": "python",
   "pygments_lexer": "ipython3",
   "version": "3.12.8"
  }
 },
 "nbformat": 4,
 "nbformat_minor": 2
}
