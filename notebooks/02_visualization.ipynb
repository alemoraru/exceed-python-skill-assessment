{
 "cells": [
  {
   "metadata": {},
   "cell_type": "code",
   "outputs": [],
   "execution_count": null,
   "source": "",
   "id": "37caf12219dc7b1b"
  },
  {
   "metadata": {},
   "cell_type": "markdown",
   "source": [
    "# EXCEED Python Qualtrics Survey - Visualization\n",
    "\n",
    "This notebook provides visualizations of the EXCEED Python Qualtrics survey data. The goal is to visualize some of the key metrics and respondents' results to better understand the survey questions and the participants' performance. Put simply, this notebook is a companion to the first 2 notebooks.\n"
   ],
   "id": "ecabf9df53a58d15"
  },
  {
   "metadata": {},
   "cell_type": "code",
   "outputs": [],
   "execution_count": null,
   "source": "",
   "id": "2b18d80ff1e1a193"
  }
 ],
 "metadata": {},
 "nbformat": 4,
 "nbformat_minor": 5
}
